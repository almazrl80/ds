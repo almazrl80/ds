{
 "cells": [
  {
   "cell_type": "code",
   "execution_count": null,
   "metadata": {},
   "outputs": [],
   "source": [
    "# import pandas as pd\n",
    "# countries_df = pd.DataFrame(\n",
    "#     data = [\n",
    "#         ['Англия', 56.29, 133396],\n",
    "#         ['Канада', 38.05, 9984670],\n",
    "#         ['США', 322.28, 9826630],\n",
    "#         ['Россия', 146.24, 17125191],\n",
    "#         ['Украина', 45.5, 603628],\n",
    "#         ['Беларусь', 9.5, 207600],\n",
    "#         ['Казахстан', 17.04, 2724902]\n",
    "#     ],\n",
    "#     columns= ['country', 'population', 'area'],\n",
    "#     index = ['UK', 'CA', 'US', 'RU', 'UA', 'BY', 'KZ']\n",
    "# )\n",
    "# display(countries_df)\n",
    "# countries_df = pd.DataFrame({\n",
    "#     'country': ['Англия', 'Канада', 'США', 'Россия', 'Украина', 'Беларусь', 'Казахстан'],\n",
    "#     'population': [56.29, 38.05, 322.28, 146.24, 45.5, 9.5, 17.04],\n",
    "#     'area': [133396, 9984670, 9826630, 17125191, 603628, 207600, 2724902]\n",
    "# })\n",
    "# countries_df.index = ['UK', 'CA', 'US', 'RU', 'UA', 'BY', 'KZ']\n",
    "# #countries_df.population\n",
    "# #countries_df['population']\n",
    "# display(countries_df)\n",
    "# countries_df.iloc[4:7, 0:3]\n",
    "# print(countries_df.mean(axis=0, numeric_only=True))\n",
    "# countries_df.mean(axis=1, numeric_only=True)"
   ]
  },
  {
   "cell_type": "code",
   "execution_count": 35,
   "metadata": {},
   "outputs": [
    {
     "name": "stdout",
     "output_type": "stream",
     "text": [
      "353\n"
     ]
    }
   ],
   "source": [
    "import pandas as pd\n",
    "def create_companyDF(income, expenses, years):\n",
    "    df = pd.DataFrame({\n",
    "        'Income': income,\n",
    "        'Expenses': expenses\n",
    "        },\n",
    "        index = years\n",
    "    )\n",
    "    return df\n",
    "def get_profit(df, year):\n",
    "    if year in df.index:\n",
    "        profit = df.loc[year, 'Income'] - df.loc[year, 'Expenses']\n",
    "    else:\n",
    "        profit=None\n",
    "    return profit\n",
    "print(get_profit(year = 2018, df = create_companyDF([612, 516, 329, 158], [136,163,250,361], [2017,2018,2019,2020])))"
   ]
  }
 ],
 "metadata": {
  "kernelspec": {
   "display_name": "Python 3",
   "language": "python",
   "name": "python3"
  },
  "language_info": {
   "codemirror_mode": {
    "name": "ipython",
    "version": 3
   },
   "file_extension": ".py",
   "mimetype": "text/x-python",
   "name": "python",
   "nbconvert_exporter": "python",
   "pygments_lexer": "ipython3",
   "version": "3.12.3"
  }
 },
 "nbformat": 4,
 "nbformat_minor": 2
}
