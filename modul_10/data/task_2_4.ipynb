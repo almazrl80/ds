{
 "cells": [
  {
   "cell_type": "code",
   "execution_count": 14,
   "metadata": {},
   "outputs": [
    {
     "name": "stdout",
     "output_type": "stream",
     "text": [
      "chlorhexidine    26\n",
      "cyntomycin       18\n",
      "afobazol          7\n",
      "Name: medications, dtype: int64\n"
     ]
    }
   ],
   "source": [
    "import pandas as pd\n",
    "# names=['chlorhexidine', 'cyntomycin', 'afobazol']\n",
    "# counts=[15, 18, 7]\n",
    "def create_medications(names, counts):\n",
    "    Series_medications = pd.Series(data=counts, index = names, name = 'medications'\n",
    ")\n",
    "    return Series_medications\n",
    "medications=create_medications(names, counts)\n",
    "def get_percent(medications, name):\n",
    "    per=medications.loc[name]*100/sum(counts)\n",
    "    return per\n",
    "print(create_medications(names = ['chlorhexidine', 'cyntomycin', 'afobazol'], counts = [26, 18, 7]))"
   ]
  }
 ],
 "metadata": {
  "kernelspec": {
   "display_name": "Python 3",
   "language": "python",
   "name": "python3"
  },
  "language_info": {
   "codemirror_mode": {
    "name": "ipython",
    "version": 3
   },
   "file_extension": ".py",
   "mimetype": "text/x-python",
   "name": "python",
   "nbconvert_exporter": "python",
   "pygments_lexer": "ipython3",
   "version": "3.12.3"
  }
 },
 "nbformat": 4,
 "nbformat_minor": 2
}
